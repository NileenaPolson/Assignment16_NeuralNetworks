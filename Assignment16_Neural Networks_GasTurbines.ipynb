{
 "cells": [
  {
   "cell_type": "code",
   "execution_count": 17,
   "id": "5ee9808a",
   "metadata": {},
   "outputs": [],
   "source": [
    "import numpy as np\n",
    "import pandas as pd\n",
    "import tensorflow as tf\n",
    "import matplotlib.pyplot as plt"
   ]
  },
  {
   "cell_type": "code",
   "execution_count": 2,
   "id": "a99ec1d9",
   "metadata": {},
   "outputs": [
    {
     "name": "stdout",
     "output_type": "stream",
     "text": [
      "(15039, 11)\n"
     ]
    },
    {
     "data": {
      "text/html": [
       "<div>\n",
       "<style scoped>\n",
       "    .dataframe tbody tr th:only-of-type {\n",
       "        vertical-align: middle;\n",
       "    }\n",
       "\n",
       "    .dataframe tbody tr th {\n",
       "        vertical-align: top;\n",
       "    }\n",
       "\n",
       "    .dataframe thead th {\n",
       "        text-align: right;\n",
       "    }\n",
       "</style>\n",
       "<table border=\"1\" class=\"dataframe\">\n",
       "  <thead>\n",
       "    <tr style=\"text-align: right;\">\n",
       "      <th></th>\n",
       "      <th>AT</th>\n",
       "      <th>AP</th>\n",
       "      <th>AH</th>\n",
       "      <th>AFDP</th>\n",
       "      <th>GTEP</th>\n",
       "      <th>TIT</th>\n",
       "      <th>TAT</th>\n",
       "      <th>TEY</th>\n",
       "      <th>CDP</th>\n",
       "      <th>CO</th>\n",
       "      <th>NOX</th>\n",
       "    </tr>\n",
       "  </thead>\n",
       "  <tbody>\n",
       "    <tr>\n",
       "      <th>0</th>\n",
       "      <td>6.8594</td>\n",
       "      <td>1007.9</td>\n",
       "      <td>96.799</td>\n",
       "      <td>3.5000</td>\n",
       "      <td>19.663</td>\n",
       "      <td>1059.2</td>\n",
       "      <td>550.00</td>\n",
       "      <td>114.70</td>\n",
       "      <td>10.605</td>\n",
       "      <td>3.1547</td>\n",
       "      <td>82.722</td>\n",
       "    </tr>\n",
       "    <tr>\n",
       "      <th>1</th>\n",
       "      <td>6.7850</td>\n",
       "      <td>1008.4</td>\n",
       "      <td>97.118</td>\n",
       "      <td>3.4998</td>\n",
       "      <td>19.728</td>\n",
       "      <td>1059.3</td>\n",
       "      <td>550.00</td>\n",
       "      <td>114.72</td>\n",
       "      <td>10.598</td>\n",
       "      <td>3.2363</td>\n",
       "      <td>82.776</td>\n",
       "    </tr>\n",
       "    <tr>\n",
       "      <th>2</th>\n",
       "      <td>6.8977</td>\n",
       "      <td>1008.8</td>\n",
       "      <td>95.939</td>\n",
       "      <td>3.4824</td>\n",
       "      <td>19.779</td>\n",
       "      <td>1059.4</td>\n",
       "      <td>549.87</td>\n",
       "      <td>114.71</td>\n",
       "      <td>10.601</td>\n",
       "      <td>3.2012</td>\n",
       "      <td>82.468</td>\n",
       "    </tr>\n",
       "    <tr>\n",
       "      <th>3</th>\n",
       "      <td>7.0569</td>\n",
       "      <td>1009.2</td>\n",
       "      <td>95.249</td>\n",
       "      <td>3.4805</td>\n",
       "      <td>19.792</td>\n",
       "      <td>1059.6</td>\n",
       "      <td>549.99</td>\n",
       "      <td>114.72</td>\n",
       "      <td>10.606</td>\n",
       "      <td>3.1923</td>\n",
       "      <td>82.670</td>\n",
       "    </tr>\n",
       "    <tr>\n",
       "      <th>4</th>\n",
       "      <td>7.3978</td>\n",
       "      <td>1009.7</td>\n",
       "      <td>95.150</td>\n",
       "      <td>3.4976</td>\n",
       "      <td>19.765</td>\n",
       "      <td>1059.7</td>\n",
       "      <td>549.98</td>\n",
       "      <td>114.72</td>\n",
       "      <td>10.612</td>\n",
       "      <td>3.2484</td>\n",
       "      <td>82.311</td>\n",
       "    </tr>\n",
       "    <tr>\n",
       "      <th>...</th>\n",
       "      <td>...</td>\n",
       "      <td>...</td>\n",
       "      <td>...</td>\n",
       "      <td>...</td>\n",
       "      <td>...</td>\n",
       "      <td>...</td>\n",
       "      <td>...</td>\n",
       "      <td>...</td>\n",
       "      <td>...</td>\n",
       "      <td>...</td>\n",
       "      <td>...</td>\n",
       "    </tr>\n",
       "    <tr>\n",
       "      <th>15034</th>\n",
       "      <td>9.0301</td>\n",
       "      <td>1005.6</td>\n",
       "      <td>98.460</td>\n",
       "      <td>3.5421</td>\n",
       "      <td>19.164</td>\n",
       "      <td>1049.7</td>\n",
       "      <td>546.21</td>\n",
       "      <td>111.61</td>\n",
       "      <td>10.400</td>\n",
       "      <td>4.5186</td>\n",
       "      <td>79.559</td>\n",
       "    </tr>\n",
       "    <tr>\n",
       "      <th>15035</th>\n",
       "      <td>7.8879</td>\n",
       "      <td>1005.9</td>\n",
       "      <td>99.093</td>\n",
       "      <td>3.5059</td>\n",
       "      <td>19.414</td>\n",
       "      <td>1046.3</td>\n",
       "      <td>543.22</td>\n",
       "      <td>111.78</td>\n",
       "      <td>10.433</td>\n",
       "      <td>4.8470</td>\n",
       "      <td>79.917</td>\n",
       "    </tr>\n",
       "    <tr>\n",
       "      <th>15036</th>\n",
       "      <td>7.2647</td>\n",
       "      <td>1006.3</td>\n",
       "      <td>99.496</td>\n",
       "      <td>3.4770</td>\n",
       "      <td>19.530</td>\n",
       "      <td>1037.7</td>\n",
       "      <td>537.32</td>\n",
       "      <td>110.19</td>\n",
       "      <td>10.483</td>\n",
       "      <td>7.9632</td>\n",
       "      <td>90.912</td>\n",
       "    </tr>\n",
       "    <tr>\n",
       "      <th>15037</th>\n",
       "      <td>7.0060</td>\n",
       "      <td>1006.8</td>\n",
       "      <td>99.008</td>\n",
       "      <td>3.4486</td>\n",
       "      <td>19.377</td>\n",
       "      <td>1043.2</td>\n",
       "      <td>541.24</td>\n",
       "      <td>110.74</td>\n",
       "      <td>10.533</td>\n",
       "      <td>6.2494</td>\n",
       "      <td>93.227</td>\n",
       "    </tr>\n",
       "    <tr>\n",
       "      <th>15038</th>\n",
       "      <td>6.9279</td>\n",
       "      <td>1007.2</td>\n",
       "      <td>97.533</td>\n",
       "      <td>3.4275</td>\n",
       "      <td>19.306</td>\n",
       "      <td>1049.9</td>\n",
       "      <td>545.85</td>\n",
       "      <td>111.58</td>\n",
       "      <td>10.583</td>\n",
       "      <td>4.9816</td>\n",
       "      <td>92.498</td>\n",
       "    </tr>\n",
       "  </tbody>\n",
       "</table>\n",
       "<p>15039 rows × 11 columns</p>\n",
       "</div>"
      ],
      "text/plain": [
       "           AT      AP      AH    AFDP    GTEP     TIT     TAT     TEY     CDP  \\\n",
       "0      6.8594  1007.9  96.799  3.5000  19.663  1059.2  550.00  114.70  10.605   \n",
       "1      6.7850  1008.4  97.118  3.4998  19.728  1059.3  550.00  114.72  10.598   \n",
       "2      6.8977  1008.8  95.939  3.4824  19.779  1059.4  549.87  114.71  10.601   \n",
       "3      7.0569  1009.2  95.249  3.4805  19.792  1059.6  549.99  114.72  10.606   \n",
       "4      7.3978  1009.7  95.150  3.4976  19.765  1059.7  549.98  114.72  10.612   \n",
       "...       ...     ...     ...     ...     ...     ...     ...     ...     ...   \n",
       "15034  9.0301  1005.6  98.460  3.5421  19.164  1049.7  546.21  111.61  10.400   \n",
       "15035  7.8879  1005.9  99.093  3.5059  19.414  1046.3  543.22  111.78  10.433   \n",
       "15036  7.2647  1006.3  99.496  3.4770  19.530  1037.7  537.32  110.19  10.483   \n",
       "15037  7.0060  1006.8  99.008  3.4486  19.377  1043.2  541.24  110.74  10.533   \n",
       "15038  6.9279  1007.2  97.533  3.4275  19.306  1049.9  545.85  111.58  10.583   \n",
       "\n",
       "           CO     NOX  \n",
       "0      3.1547  82.722  \n",
       "1      3.2363  82.776  \n",
       "2      3.2012  82.468  \n",
       "3      3.1923  82.670  \n",
       "4      3.2484  82.311  \n",
       "...       ...     ...  \n",
       "15034  4.5186  79.559  \n",
       "15035  4.8470  79.917  \n",
       "15036  7.9632  90.912  \n",
       "15037  6.2494  93.227  \n",
       "15038  4.9816  92.498  \n",
       "\n",
       "[15039 rows x 11 columns]"
      ]
     },
     "execution_count": 2,
     "metadata": {},
     "output_type": "execute_result"
    }
   ],
   "source": [
    "df=pd.read_csv(\"gas_turbines.csv\")\n",
    "print(df.shape)\n",
    "df"
   ]
  },
  {
   "cell_type": "code",
   "execution_count": 3,
   "id": "e66a07ca",
   "metadata": {},
   "outputs": [
    {
     "data": {
      "text/plain": [
       "Index(['AT', 'AP', 'AH', 'AFDP', 'GTEP', 'TIT', 'TAT', 'TEY', 'CDP', 'CO',\n",
       "       'NOX'],\n",
       "      dtype='object')"
      ]
     },
     "execution_count": 3,
     "metadata": {},
     "output_type": "execute_result"
    }
   ],
   "source": [
    "df.columns"
   ]
  },
  {
   "cell_type": "code",
   "execution_count": 4,
   "id": "24066b97",
   "metadata": {},
   "outputs": [],
   "source": [
    "X=np.loadtxt(\"gas_turbines.csv\",delimiter=\",\",skiprows=1,usecols=(0,1,2,3,4,5,6,8,9,10))\n",
    "Y=np.loadtxt(\"gas_turbines.csv\",delimiter=\",\",skiprows=1,usecols=(7))"
   ]
  },
  {
   "cell_type": "code",
   "execution_count": 34,
   "id": "97078615",
   "metadata": {},
   "outputs": [],
   "source": [
    "model = tf.keras.models.Sequential()\n",
    "model.add(tf.keras.layers.Dense(15,input_dim=10,activation='ReLU'))\n",
    "model.add(tf.keras.layers.Dense(9,activation='ReLU'))\n",
    "model.add(tf.keras.layers.Dense(1))"
   ]
  },
  {
   "cell_type": "code",
   "execution_count": 35,
   "id": "1d799203",
   "metadata": {},
   "outputs": [],
   "source": [
    "model.compile(loss='mean_squared_error',optimizer= 'adam')"
   ]
  },
  {
   "cell_type": "code",
   "execution_count": 55,
   "id": "05646aa6",
   "metadata": {},
   "outputs": [
    {
     "name": "stdout",
     "output_type": "stream",
     "text": [
      "Epoch 1/50\n",
      "13/13 [==============================] - 0s 5ms/step - loss: 0.9954 - val_loss: 2.3340\n",
      "Epoch 2/50\n",
      "13/13 [==============================] - 0s 3ms/step - loss: 1.4594 - val_loss: 2.1668\n",
      "Epoch 3/50\n",
      "13/13 [==============================] - 0s 3ms/step - loss: 1.7207 - val_loss: 1.5664\n",
      "Epoch 4/50\n",
      "13/13 [==============================] - 0s 3ms/step - loss: 1.4512 - val_loss: 1.4510\n",
      "Epoch 5/50\n",
      "13/13 [==============================] - 0s 3ms/step - loss: 1.3545 - val_loss: 1.1252\n",
      "Epoch 6/50\n",
      "13/13 [==============================] - 0s 3ms/step - loss: 0.9349 - val_loss: 1.1496\n",
      "Epoch 7/50\n",
      "13/13 [==============================] - 0s 3ms/step - loss: 0.9676 - val_loss: 1.3343\n",
      "Epoch 8/50\n",
      "13/13 [==============================] - 0s 3ms/step - loss: 0.9551 - val_loss: 1.6020\n",
      "Epoch 9/50\n",
      "13/13 [==============================] - 0s 3ms/step - loss: 1.1420 - val_loss: 1.5223\n",
      "Epoch 10/50\n",
      "13/13 [==============================] - 0s 4ms/step - loss: 1.0156 - val_loss: 1.2000\n",
      "Epoch 11/50\n",
      "13/13 [==============================] - 0s 3ms/step - loss: 1.0133 - val_loss: 1.2810\n",
      "Epoch 12/50\n",
      "13/13 [==============================] - 0s 3ms/step - loss: 1.0846 - val_loss: 1.2068\n",
      "Epoch 13/50\n",
      "13/13 [==============================] - 0s 3ms/step - loss: 1.0442 - val_loss: 1.2518\n",
      "Epoch 14/50\n",
      "13/13 [==============================] - 0s 4ms/step - loss: 1.0194 - val_loss: 1.5834\n",
      "Epoch 15/50\n",
      "13/13 [==============================] - 0s 3ms/step - loss: 1.0628 - val_loss: 1.4578\n",
      "Epoch 16/50\n",
      "13/13 [==============================] - 0s 3ms/step - loss: 0.9931 - val_loss: 1.2248\n",
      "Epoch 17/50\n",
      "13/13 [==============================] - 0s 2ms/step - loss: 0.9718 - val_loss: 1.4133\n",
      "Epoch 18/50\n",
      "13/13 [==============================] - 0s 3ms/step - loss: 1.1430 - val_loss: 1.1456\n",
      "Epoch 19/50\n",
      "13/13 [==============================] - 0s 3ms/step - loss: 0.9563 - val_loss: 1.1907\n",
      "Epoch 20/50\n",
      "13/13 [==============================] - 0s 3ms/step - loss: 1.0749 - val_loss: 1.1355\n",
      "Epoch 21/50\n",
      "13/13 [==============================] - 0s 3ms/step - loss: 0.9947 - val_loss: 1.1266\n",
      "Epoch 22/50\n",
      "13/13 [==============================] - 0s 3ms/step - loss: 1.0394 - val_loss: 1.1228\n",
      "Epoch 23/50\n",
      "13/13 [==============================] - 0s 3ms/step - loss: 0.9749 - val_loss: 1.8554\n",
      "Epoch 24/50\n",
      "13/13 [==============================] - 0s 3ms/step - loss: 1.1444 - val_loss: 2.1263\n",
      "Epoch 25/50\n",
      "13/13 [==============================] - 0s 3ms/step - loss: 1.4693 - val_loss: 1.6891\n",
      "Epoch 26/50\n",
      "13/13 [==============================] - 0s 4ms/step - loss: 1.1629 - val_loss: 1.3295\n",
      "Epoch 27/50\n",
      "13/13 [==============================] - 0s 4ms/step - loss: 1.0009 - val_loss: 1.1895\n",
      "Epoch 28/50\n",
      "13/13 [==============================] - 0s 3ms/step - loss: 0.9354 - val_loss: 1.1279\n",
      "Epoch 29/50\n",
      "13/13 [==============================] - 0s 2ms/step - loss: 1.0165 - val_loss: 1.3457\n",
      "Epoch 30/50\n",
      "13/13 [==============================] - 0s 2ms/step - loss: 1.0053 - val_loss: 2.7252\n",
      "Epoch 31/50\n",
      "13/13 [==============================] - 0s 3ms/step - loss: 1.5704 - val_loss: 1.7662\n",
      "Epoch 32/50\n",
      "13/13 [==============================] - 0s 3ms/step - loss: 1.1207 - val_loss: 1.5804\n",
      "Epoch 33/50\n",
      "13/13 [==============================] - 0s 3ms/step - loss: 1.0361 - val_loss: 1.1206\n",
      "Epoch 34/50\n",
      "13/13 [==============================] - 0s 3ms/step - loss: 0.9468 - val_loss: 1.2376\n",
      "Epoch 35/50\n",
      "13/13 [==============================] - ETA: 0s - loss: 1.117 - 0s 3ms/step - loss: 1.2275 - val_loss: 1.2044\n",
      "Epoch 36/50\n",
      "13/13 [==============================] - 0s 3ms/step - loss: 1.3079 - val_loss: 1.2306\n",
      "Epoch 37/50\n",
      "13/13 [==============================] - 0s 2ms/step - loss: 1.0165 - val_loss: 1.1228\n",
      "Epoch 38/50\n",
      "13/13 [==============================] - 0s 3ms/step - loss: 1.0091 - val_loss: 2.0630\n",
      "Epoch 39/50\n",
      "13/13 [==============================] - 0s 3ms/step - loss: 1.2073 - val_loss: 1.1451\n",
      "Epoch 40/50\n",
      "13/13 [==============================] - 0s 3ms/step - loss: 0.9824 - val_loss: 1.4222\n",
      "Epoch 41/50\n",
      "13/13 [==============================] - ETA: 0s - loss: 1.369 - 0s 3ms/step - loss: 1.0501 - val_loss: 1.1254\n",
      "Epoch 42/50\n",
      "13/13 [==============================] - 0s 2ms/step - loss: 0.9689 - val_loss: 1.3108\n",
      "Epoch 43/50\n",
      "13/13 [==============================] - 0s 3ms/step - loss: 0.9980 - val_loss: 1.1466\n",
      "Epoch 44/50\n",
      "13/13 [==============================] - 0s 4ms/step - loss: 0.9291 - val_loss: 1.1397\n",
      "Epoch 45/50\n",
      "13/13 [==============================] - 0s 3ms/step - loss: 0.9497 - val_loss: 1.1191\n",
      "Epoch 46/50\n",
      "13/13 [==============================] - 0s 3ms/step - loss: 0.9485 - val_loss: 1.3571\n",
      "Epoch 47/50\n",
      "13/13 [==============================] - 0s 3ms/step - loss: 0.9761 - val_loss: 1.2258\n",
      "Epoch 48/50\n",
      "13/13 [==============================] - 0s 3ms/step - loss: 0.9456 - val_loss: 2.1229\n",
      "Epoch 49/50\n",
      "13/13 [==============================] - 0s 3ms/step - loss: 1.3224 - val_loss: 1.1455\n",
      "Epoch 50/50\n",
      "13/13 [==============================] - 0s 3ms/step - loss: 1.0012 - val_loss: 2.5273\n"
     ]
    }
   ],
   "source": [
    "history=model.fit(X,Y,validation_split=0.2,epochs=50,batch_size=1000)"
   ]
  },
  {
   "cell_type": "code",
   "execution_count": 56,
   "id": "749fc928",
   "metadata": {},
   "outputs": [
    {
     "data": {
      "text/plain": [
       "dict_keys(['loss', 'val_loss'])"
      ]
     },
     "execution_count": 56,
     "metadata": {},
     "output_type": "execute_result"
    }
   ],
   "source": [
    "history.history.keys()"
   ]
  },
  {
   "cell_type": "code",
   "execution_count": 57,
   "id": "1f0cac01",
   "metadata": {},
   "outputs": [
    {
     "data": {
      "text/plain": [
       "<matplotlib.legend.Legend at 0x273f0927790>"
      ]
     },
     "execution_count": 57,
     "metadata": {},
     "output_type": "execute_result"
    },
    {
     "data": {
      "image/png": "[encoded data removed]",
      "text/plain": [
       "<Figure size 432x288 with 1 Axes>"
      ]
     },
     "metadata": {
      "needs_background": "light"
     },
     "output_type": "display_data"
    }
   ],
   "source": [
    "plt.plot(history.history['loss'])\n",
    "plt.plot(history.history['val_loss'])\n",
    "plt.ylim(0,5)\n",
    "plt.legend(['train','test'])"
   ]
  },
  {
   "cell_type": "code",
   "execution_count": 58,
   "id": "5e842a3f",
   "metadata": {},
   "outputs": [
    {
     "name": "stdout",
     "output_type": "stream",
     "text": [
      "Average Loss of model: 1.4418631267547608\n"
     ]
    }
   ],
   "source": [
    "print(\"Average Loss of model: \"+str(np.mean(history.history['val_loss'])))"
   ]
  }
 ],
 "metadata": {
  "kernelspec": {
   "display_name": "Python 3",
   "language": "python",
   "name": "python3"
  },
  "language_info": {
   "codemirror_mode": {
    "name": "ipython",
    "version": 3
   },
   "file_extension": ".py",
   "mimetype": "text/x-python",
   "name": "python",
   "nbconvert_exporter": "python",
   "pygments_lexer": "ipython3",
   "version": "3.8.8"
  }
 },
 "nbformat": 4,
 "nbformat_minor": 5
}
